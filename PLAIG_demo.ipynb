{
  "nbformat": 4,
  "nbformat_minor": 0,
  "metadata": {
    "colab": {
      "provenance": [],
      "authorship_tag": "ABX9TyPs9ImdNiYd+m8Gba3ZR9Oj",
      "include_colab_link": true
    },
    "kernelspec": {
      "name": "python3",
      "display_name": "Python 3"
    },
    "language_info": {
      "name": "python"
    }
  },
  "cells": [
    {
      "cell_type": "markdown",
      "metadata": {
        "id": "view-in-github",
        "colab_type": "text"
      },
      "source": [
        "<a href=\"https://colab.research.google.com/github/mvsamudrala/PLAIG/blob/main/PLAIG_demo.ipynb\" target=\"_parent\"><img src=\"https://colab.research.google.com/assets/colab-badge.svg\" alt=\"Open In Colab\"/></a>"
      ]
    },
    {
      "cell_type": "code",
      "source": [
        "!pip install pandas numpy openpyxl scipy matplotlib scikit-learn==1.3.1 networkx biopython xgboost torch torchvision torchaudio joblib biopandas rdkit torch-geometric"
      ],
      "metadata": {
        "id": "Fmr5i52akjc6",
        "collapsed": true
      },
      "execution_count": null,
      "outputs": []
    },
    {
      "cell_type": "code",
      "source": [
        "!wget https://github.com/mvsamudrala/PLAIG/raw/refs/heads/main/binana.zip -O binana.zip\n",
        "!unzip binana.zip"
      ],
      "metadata": {
        "collapsed": true,
        "id": "HJCDDiU4k-T2"
      },
      "execution_count": null,
      "outputs": []
    },
    {
      "cell_type": "code",
      "source": [
        "!wget https://raw.githubusercontent.com/mvsamudrala/PLAIG/refs/heads/main/PLAIG_Run.py\n",
        "!wget https://raw.githubusercontent.com/mvsamudrala/PLAIG/refs/heads/main/PLAIG_Architecture.py\n",
        "!wget https://github.com/mvsamudrala/PLAIG/raw/refs/heads/main/PLAIG_Model.pth\n",
        "!wget https://github.com/mvsamudrala/PLAIG/raw/refs/heads/main/PLAIG_Stacking.joblib.zip -O PLAIG_Stacking.joblib.zip\n",
        "!unzip PLAIG_Stacking.joblib.zip\n",
        "!wget https://github.com/mvsamudrala/PLAIG/raw/refs/heads/main/combined_set_normalization_statistics.pkl\n",
        "!wget https://raw.githubusercontent.com/mvsamudrala/PLAIG/refs/heads/main/graph_representation.py"
      ],
      "metadata": {
        "collapsed": true,
        "id": "oavfy-UalBms"
      },
      "execution_count": null,
      "outputs": []
    },
    {
      "cell_type": "code",
      "source": [
        "from google.colab import files\n",
        "\n",
        "protein_pdb = files.upload()\n",
        "protein_pdbqt = files.upload()\n",
        "ligand_pdb = files.upload()\n",
        "ligand_pdbqt = files.upload()"
      ],
      "metadata": {
        "id": "qtB6e1VVlP9c",
        "collapsed": true
      },
      "execution_count": null,
      "outputs": []
    },
    {
      "cell_type": "code",
      "source": [
        "complex_files = [(protein_pdb, protein_pdbqt, ligand_pdb, ligand_pdbqt)]"
      ],
      "metadata": {
        "id": "WjozkGF0lRiX"
      },
      "execution_count": 5,
      "outputs": []
    },
    {
      "cell_type": "code",
      "source": [
        "import time\n",
        "import pickle\n",
        "import os\n",
        "import warnings\n",
        "import PLAIG_Run\n",
        "import graph_representation"
      ],
      "metadata": {
        "id": "XbwMWBGblT0-"
      },
      "execution_count": 6,
      "outputs": []
    },
    {
      "cell_type": "code",
      "source": [
        "PLAIG_Run.run_model(complex_files)"
      ],
      "metadata": {
        "id": "Dc9oFVEybgin"
      },
      "execution_count": null,
      "outputs": []
    }
  ]
}