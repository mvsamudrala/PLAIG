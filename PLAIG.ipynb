{
  "nbformat": 4,
  "nbformat_minor": 0,
  "metadata": {
    "colab": {
      "provenance": [],
      "authorship_tag": "ABX9TyNxgRGXrtSzF65Gb9+D5evt",
      "include_colab_link": true
    },
    "kernelspec": {
      "name": "python3",
      "display_name": "Python 3"
    },
    "language_info": {
      "name": "python"
    }
  },
  "cells": [
    {
      "cell_type": "markdown",
      "metadata": {
        "id": "view-in-github",
        "colab_type": "text"
      },
      "source": [
        "<a href=\"https://colab.research.google.com/github/mvsamudrala/PLAIG/blob/main/PLAIG.ipynb\" target=\"_parent\"><img src=\"https://colab.research.google.com/assets/colab-badge.svg\" alt=\"Open In Colab\"/></a>"
      ]
    },
    {
      "cell_type": "code",
      "execution_count": null,
      "metadata": {
        "id": "CCez0C06Xwlf"
      },
      "outputs": [],
      "source": [
        "from IPython.display import HTML"
      ]
    },
    {
      "cell_type": "code",
      "source": [
        "%%capture\n",
        "start = time.time()\n",
        "normalization_statistics_file = \"combined_set_normalization_statistics.pkl\"\n",
        "with open(normalization_statistics_file, 'rb') as file:\n",
        "    normalization_statistics = pickle.load(file)\n",
        "# graph_data_file = \"DUDE_Z_norm_3.pkl\"\n",
        "# with open(graph_data_file, 'rb') as file:\n",
        "#     dataset = pickle.load(file)\n",
        "# print(len(dataset))\n",
        "warnings.filterwarnings('ignore')\n",
        "cannot_read_mols = []\n",
        "count = 0\n",
        "distance_cutoff = 3\n",
        "pre_dataset = []\n",
        "all_ligand_features = []\n",
        "all_pocket_features = []\n",
        "# all_ligand_features_key = {}\n",
        "# all_pocket_features_key = {}\n",
        "# dataset = []\n",
        "no_nodes_count = 0\n",
        "for protein, ligands in dudez_dataset.items():\n",
        "    random.shuffle(ligands)\n",
        "    count = 0\n",
        "    protein_name = os.path.splitext(os.path.basename(protein))[0]\n",
        "    print(protein_name)\n",
        "    protein_pocket_path = protein\n",
        "    print(protein_pocket_path)\n",
        "    protein_pocket_pdbqt_path = f\"/Users/mvsamudrala/BindingAffinityGNN/PDBQT_DUDE_Z_only/{protein_name}/{protein_name}.pdbqt\"\n",
        "    print(protein_pocket_pdbqt_path)\n",
        "    # protein_path = \"/Users/mvsamudrala/BindingAffinityGNN/refined-set/1a1e/1a1e_protein.pdb\"\n",
        "    # pdbqt_output_dir = \"/Users/mvsamudrala/BindingAffinityGNN/PDBQT_refined\"\n",
        "    # path_parts = protein_pocket_path.split(\"/\")\n",
        "    # pdb_code = path_parts[-2]\n",
        "    for ligand in ligands:\n",
        "        print(count)\n",
        "        ligand_name = os.path.splitext(os.path.basename(ligand))[0]\n",
        "        print(ligand_name)\n",
        "        ligand_path = ligand\n",
        "        print(ligand_path)\n",
        "        if \"xtal\" in ligand_name:\n",
        "            ligand_pdbqt_path = f\"/Users/mvsamudrala/BindingAffinityGNN/PDBQT_DUDE_Z_only/{protein_name}/{ligand_name}.pdbqt\"\n",
        "        elif \"ZINC\" in ligand_name:\n",
        "            # ligand_pdbqt_path = f\"/Users/mvsamudrala/BindingAffinityGNN/PDBQT_DUDE_Z_only/{protein_name}/decoys/{ligand_name}.pdbqt\"\n",
        "            continue\n",
        "        else:\n",
        "            if protein_name == \"AMPC\" or protein_name == \"DRD4\" or protein_name == \"MT1\":\n",
        "                ligand_pdbqt_path = f\"/Users/mvsamudrala/BindingAffinityGNN/PDBQT_DUDE_Z_only/{protein_name}/ligands/{ligand_name}.pdbqt\"\n",
        "            else:\n",
        "                continue\n",
        "        print(ligand_pdbqt_path)\n",
        "        print()\n",
        "        try:\n",
        "            graph = GNN_representationv5.pl_complex_to_graph(protein_pocket_path, ligand_path, protein_pocket_pdbqt_path, ligand_pdbqt_path, distance_cutoff)\n",
        "            # for edge in graph.edges(data=True):\n",
        "            #     print(edge)\n",
        "            if len(graph.nodes) == 0:\n",
        "                no_nodes_count += 1\n",
        "                print(f\"Graph has no nodes, #{no_nodes_count}\")\n",
        "                continue\n",
        "            pre_dataset.append((graph, (protein_name, ligand_name)))\n",
        "            # all_ligand_features_key[code] = graph.graph[\"ligand_attr\"]\n",
        "            # all_pocket_features_key[code] = graph.graph[\"pocket_attr\"]\n",
        "            print(graph.graph[\"ligand_attr\"])\n",
        "            all_ligand_features.append(graph.graph[\"ligand_attr\"])\n",
        "            print(graph.graph[\"pocket_attr\"])\n",
        "            all_pocket_features.append(graph.graph[\"pocket_attr\"])\n",
        "            # in_channels = graph_data.num_node_features\n",
        "            # edge_channels = graph_data.edge_features.shape[1]\n",
        "            # hidden_channels = 32\n",
        "            # out_channels = 1\n",
        "            # num_graph_features = len(graph_data.graph_features)\n",
        "            #\n",
        "            # model = GCN(in_channels, edge_channels, hidden_channels, out_channels, num_graph_features)\n",
        "            #\n",
        "            # print(model)\n",
        "\n",
        "        except Exception as e:\n",
        "            cannot_read_mols.append((protein_name, ligand_name))\n",
        "            print(f\"Cannot read {protein_name}, {ligand_name} file: {e}\")\n",
        "        # if count == 1000:\n",
        "        #     break\n",
        "        count += 1\n",
        "print()\n",
        "all_ligand_features_normalized, all_pocket_features_normalized = normalize_graph_features(all_ligand_features, all_pocket_features, normalization_statistics)\n",
        "for index, (graph, (protein_name, ligand_name)) in enumerate(pre_dataset):\n",
        "    graph.graph[\"ligand_attr\"] = all_ligand_features_normalized[index]\n",
        "    print(graph.graph[\"ligand_attr\"])\n",
        "    graph.graph[\"pocket_attr\"] = all_pocket_features_normalized[index]\n",
        "    print(graph.graph[\"pocket_attr\"])\n",
        "    graph_data = prepare_data(graph, f\"{protein_name}, {ligand_name}\")\n",
        "    # count = 0\n",
        "    # for edge in graph.edges():\n",
        "    #     print(count)\n",
        "    #     print(edge)\n",
        "    #     count += 1\n",
        "    print(f\"Data object: {graph_data}\")\n",
        "    print(f'Number of nodes: {graph_data.num_nodes}')\n",
        "    print(f'Number of edges: {graph_data.num_edges}')\n",
        "    print(f'Average node degree: {graph_data.num_edges / graph_data.num_nodes:.2f}')\n",
        "    print(f'Has isolated nodes: {graph_data.has_isolated_nodes()}')\n",
        "    print(f'Has self-loops: {graph_data.has_self_loops()}')\n",
        "    print(f'Is undirected: {graph_data.is_undirected()}')\n",
        "    print()\n",
        "    dataset.append(graph_data)\n",
        "print(len(dataset))\n",
        "graph_data_file = \"DUDE_Z_norm_3_pt2.pkl\"\n",
        "with open(graph_data_file, 'wb') as file:\n",
        "    pickle.dump(dataset, file)"
      ],
      "metadata": {
        "id": "Tv_QLOnVX4g1"
      },
      "execution_count": null,
      "outputs": []
    },
    {
      "cell_type": "markdown",
      "source": [
        "Input your .PDB and .PDBQT protein and ligand files for preprocessing."
      ],
      "metadata": {
        "id": "97NHC22JZLQ3"
      }
    }
  ]
}